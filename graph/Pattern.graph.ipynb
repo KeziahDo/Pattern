{
 "metadata": {
  "name": "",
  "signature": "sha256:38a43a70528e29c2e312fffdab8f016c40cd9acce7c472be0d4fe5ac24946f72"
 },
 "nbformat": 3,
 "nbformat_minor": 0,
 "worksheets": [
  {
   "cells": [
    {
     "cell_type": "heading",
     "level": 1,
     "metadata": {},
     "source": [
      "Pattern.graph"
     ]
    },
    {
     "cell_type": "markdown",
     "metadata": {},
     "source": [
      "The pattern.graph module provides a graph data structure that represents relations between nodes(e.g., terms, concepts). Graph can be exported as HTML(canvas) animations (demo: http://www.clips.uantwerpen.be/media/pattern-graph/). In example below, more central nodes(=more incoming traffic) are colored in blue."
     ]
    },
    {
     "cell_type": "code",
     "collapsed": false,
     "input": [
      "from pattern.web    import Bing, plaintext\n",
      "from pattern.en     import parsetree\n",
      "from pattern.search import search\n",
      "from pattern.graph  import Graph\n"
     ],
     "language": "python",
     "metadata": {},
     "outputs": [],
     "prompt_number": 4
    },
    {
     "cell_type": "code",
     "collapsed": false,
     "input": [
      "g = Graph()\n",
      "for i in range(10):\n",
      "    for result in Bing().search('\"more important than\"', start=i+1, count=50):\n",
      "        s = result.text.lower()\n",
      "        s = plaintext(s)\n",
      "        s = parsetree(s)\n",
      "        p = '{NP} (VP) more important than {NP}'\n",
      "        for m in search(p,s):\n",
      "            x = m.group(1).string # NP left\n",
      "            y = m.group(2).string # NP right\n",
      "            if x not in g:\n",
      "                g.add_node(x)\n",
      "            if y not in g:\n",
      "                g.add_node(y)\n",
      "            g.add_edge(g[x], g[y], stroke=(0,0,0,0.75)) # R,G,B,A\n",
      "            \n",
      "g = g.split()[0] # Largest subgraph\n",
      "\n",
      "\n",
      "for n in g.sorted()[:40]: # Sort by Node.weight.\n",
      "    n.fill = (0, 0.5, 1, 0.75 * n.weight)\n",
      "\n",
      "g.export('test', directed=True, weighted=0)\n",
      "\n"
     ],
     "language": "python",
     "metadata": {},
     "outputs": [],
     "prompt_number": 6
    },
    {
     "cell_type": "markdown",
     "metadata": {},
     "source": [
      "Source: http://www.clips.ua.ac.be/pages/pattern-graph\n",
      "\n",
      "- Graph.add_node() takes an id + any optional parameter of Node.\n",
      "- Graph.add_edge() takes two id's + any optional parameter of Edge.\n",
      "- Both methods have an optional base parameter that defines the subclass of Node or Edge to use.\n",
      "- Graph.prune() removes all nodes with less or equal (undirected) connections than depth.\n",
      "- Graph.copy() returns a new Graph from the given list of nodes.\n",
      "- Graph.split() return a list of unconnected subgraphs.\n",
      "- Graph.paths() returns all paths (each a list of nodes) <= length connecting two given nodes.\n",
      "- Graph.shortest_path() returns a list of nodes connecting the two given nodes.\n",
      "- Graph.shortest_paths() returns a dictionary of node \u2192 shortest path.\n",
      "- The optional heuristic function takes two node id's and returns a penalty (0.0-1.0) for traversing their edges. With directed=True, edges are only traversable in one direction.\n",
      "- Graph.fringe() returns a list of leaf nodes.\n",
      "- With depth=0, returns the nodes with one edge.\n",
      "- With depth=1, returns the nodes with one edge + the connected nodes, etc.\n"
     ]
    },
    {
     "cell_type": "code",
     "collapsed": false,
     "input": [
      "from pattern.graph import Graph"
     ],
     "language": "python",
     "metadata": {},
     "outputs": [],
     "prompt_number": 2
    },
    {
     "cell_type": "code",
     "collapsed": false,
     "input": [
      "g = Graph()\n",
      "\n",
      "for n1, n2 in (\n",
      "    ('cat', 'tail'), ('cat', 'purr'), ('purr', 'sound'),\n",
      "    ('dog', 'tail'), ('dog', 'bank'), ('bank', 'sound')):\n",
      "    g.add_node(n1)\n",
      "    g.add_node(n2)\n",
      "    g.add_edge (n1,n2, weight=0.0, type = 'is-related-to')\n",
      "    \n",
      "for n in sorted(g.nodes, key=lambda n: n.weight):\n",
      "    print '%.2f' % n.weight, n"
     ],
     "language": "python",
     "metadata": {},
     "outputs": [
      {
       "output_type": "stream",
       "stream": "stdout",
       "text": [
        "0.00 Node(id='cat')\n",
        "0.00 Node(id='dog')\n",
        "0.07 Node(id='purr')\n",
        "0.07 Node(id='bank')\n",
        "0.15 Node(id='tail')\n",
        "1.00 Node(id='sound')\n"
       ]
      }
     ],
     "prompt_number": 3
    },
    {
     "cell_type": "code",
     "collapsed": false,
     "input": [
      "for n in g.shortest_path('purr', 'bank'):\n",
      "    print n"
     ],
     "language": "python",
     "metadata": {},
     "outputs": [
      {
       "output_type": "stream",
       "stream": "stdout",
       "text": [
        "Node(id='purr')\n",
        "Node(id='sound')\n",
        "Node(id='bank')\n"
       ]
      }
     ],
     "prompt_number": 4
    },
    {
     "cell_type": "heading",
     "level": 1,
     "metadata": {},
     "source": [
      "Visualization\n"
     ]
    },
    {
     "cell_type": "markdown",
     "metadata": {},
     "source": [
      "The pattern.graph module has a Java Script counterpart(graph.js) that can be used to visualization a graph in a webpage, as HTML(canvas) element. The HTML(canvas) element allows dynamic, scriptable rendering of 2D shapes and bitmap images(see also Pattern's canvas.js).\n",
      "\n",
      "Graph.export() creates a new file folder at the given path with an index.html(the visualization), a style.css, graph.js and canvas.js. The optional parameter javascript defines the URL path to graph.js and canvas.js (which will not be included in this case).\n",
      "\n",
      "- graph.export(path, encoding='utf-8', **kwargs)"
     ]
    },
    {
     "cell_type": "code",
     "collapsed": false,
     "input": [
      "from pattern.graph import Graph\n",
      "g = Graph()\n",
      "for n1, n2 in (\n",
      "    ('cat', 'tail'), ('cat', 'purr'), ('purr', 'sound'),\n",
      "    ('dog', 'tail'), ('dog', 'bank'), ('bank', 'sound')):\n",
      "    #print n1,n2\n",
      "    \n",
      "    g.add_node(n1)\n",
      "    g.add_node(n2)\n",
      "    g.add_edge (n1,n2, weight=1.0, type = 'is-related-to')\n",
      "    \n",
      "\n",
      "g.export('sound', directed=True)"
     ],
     "language": "python",
     "metadata": {},
     "outputs": [],
     "prompt_number": 3
    },
    {
     "cell_type": "heading",
     "level": 1,
     "metadata": {},
     "source": [
      "How to create graph from file *.csv"
     ]
    },
    {
     "cell_type": "markdown",
     "metadata": {},
     "source": [
      "Create file *.csv"
     ]
    },
    {
     "cell_type": "code",
     "collapsed": false,
     "input": [
      "import pandas as pd\n",
      "df = pd.DataFrame({'Roma': ['Chicago','Chicago', 'Tokyo', \n",
      "                             'New York', 'Seul', 'Seul'],\n",
      "                   'rank': range(1,7),\n",
      "                   'Paris': ['Tokyo', 'Paris','Seul', \n",
      "                             'Paris', 'New York', 'Chicago']})\n",
      "df\n",
      "df.to_csv(\"city.csv\")"
     ],
     "language": "python",
     "metadata": {},
     "outputs": [],
     "prompt_number": 8
    },
    {
     "cell_type": "markdown",
     "metadata": {},
     "source": [
      "Load file *.csv"
     ]
    },
    {
     "cell_type": "code",
     "collapsed": false,
     "input": [
      "from pattern.graph import Graph\n",
      "from pattern.db import CSV\n",
      "\n",
      "g = Graph()\n",
      "data = CSV.load(\"city.csv\")\n",
      "\n",
      "data\n",
      "\n",
      "for i,city1,city2,rank in data:\n",
      "    g.add_node(city1)\n",
      "    g.add_node(city2)\n",
      "    g.add_edge(city1,city2, weight=1.0, type = 'is-related')\n",
      "\n",
      "for n in sorted(g.nodes, key=lambda n: n.weight):\n",
      "    print '%.2f' % n.weight, n    \n",
      "\n",
      "g.export('capital', driected=True)\n",
      "# see folder 'capital'"
     ],
     "language": "python",
     "metadata": {},
     "outputs": [
      {
       "output_type": "stream",
       "stream": "stdout",
       "text": [
        "0.00 Node(id=u'Paris')\n",
        "0.05 Node(id=u'Roma')\n",
        "0.05 Node(id=u'New York')\n",
        "0.94 Node(id=u'Tokyo')\n",
        "0.95 Node(id=u'Chicago')\n",
        "1.00 Node(id=u'Seul')\n"
       ]
      }
     ],
     "prompt_number": 10
    },
    {
     "cell_type": "code",
     "collapsed": false,
     "input": [],
     "language": "python",
     "metadata": {},
     "outputs": []
    }
   ],
   "metadata": {}
  }
 ]
}