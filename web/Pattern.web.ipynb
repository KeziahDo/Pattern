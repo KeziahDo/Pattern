{
 "metadata": {
  "name": "",
  "signature": "sha256:e94eb477b486021d637acc9febcb49b25b5cf995b9930d9dbe152376bdd733a1"
 },
 "nbformat": 3,
 "nbformat_minor": 0,
 "worksheets": [
  {
   "cells": [
    {
     "cell_type": "markdown",
     "metadata": {},
     "source": [
      "The pattern.web module has tools for online data mining: asynchronous reuqest, a uniform API for web services(Google, Bing, Twitter, Facebook, Wikipedia, Wiktionary, Flickr, RSS), a HTML DOM parser, HTML tag stripping dunctions, a web crawler, webmail, caching, Unicode support."
     ]
    },
    {
     "cell_type": "code",
     "collapsed": false,
     "input": [
      "from pattern.web import Twitter, plaintext\n",
      "\n",
      "twitter = Twitter(language = 'en')\n",
      "for tweet in twitter.search('\"more important than\"', cached = False):\n",
      "    print plaintext(tweet.text)"
     ],
     "language": "python",
     "metadata": {},
     "outputs": [
      {
       "output_type": "stream",
       "stream": "stdout",
       "text": [
        "RT @ceceliYAAA: Your mental health is way more important than any test. So if you want to go to bed go to bed. Sleep it off\n",
        "Gonna go vote tomorrow after breakfast. Not before. Food is more important than politics.\n",
        "@beccafulghum @_taytaysisk what's more important than us\n",
        "Going out to lunch will always be more important than spending money on new clothes.\n",
        "RT @tfitnessadvice: What you think of yourself is much more important than what people think of you.\n",
        "Tomorrow should be a nat'l holiday. 1) It's more important than work; and 2) Campaign ad season makes me need to drink. Cheers to its end.\n",
        "not ok!!! there is sooooo so so much more important than these kinda things http://t.co/FAQT7DsDO7\n",
        "\u201c@TheTVShows: \"Imagination is more important than knowledge. Knowledge is limited; imagination encircles the world.\" - Criminal Minds.\u201d\n",
        "My dogs opinion of me is 392074 x's more important than any of yours\n",
        "Your relationship with GOD is more important than any thing because you know for sure that's a relationship that'll last forever\n"
       ]
      }
     ],
     "prompt_number": 2
    },
    {
     "cell_type": "code",
     "collapsed": false,
     "input": [
      "\"\"\"\n",
      "from pattern.web import Google\n",
      "s = \"C'est u lapin, lapbin de bois.Quoi? Un cadeau.\"\n",
      "g = Google()\n",
      "print g.translate(s, input='fr', output ='en', cached=False)\n",
      "print g.identify(s)\n",
      "\"\"\""
     ],
     "language": "python",
     "metadata": {},
     "outputs": [
      {
       "metadata": {},
       "output_type": "pyout",
       "prompt_number": 17,
       "text": [
        "'\\nfrom pattern.web import Google\\ns = \"C\\'est u lapin, lapbin de bois.Quoi? Un cadeau.\"\\ng = Google()\\nprint g.translate(s, input=\\'fr\\', output =\\'en\\', cached=False)\\nprint g.identify(s)\\n'"
       ]
      }
     ],
     "prompt_number": 17
    },
    {
     "cell_type": "code",
     "collapsed": false,
     "input": [
      "from pattern.web import Wikipedia\n",
      "\n",
      "article =  Wikipedia().search('cat')\n",
      "#print article.categories\n",
      "for section in article.sections:\n",
      "    print repr('' * section.level + section.title)"
     ],
     "language": "python",
     "metadata": {},
     "outputs": [
      {
       "output_type": "stream",
       "stream": "stdout",
       "text": [
        "u'Cat'\n",
        "u'Nomenclature and etymology'\n",
        "u'Taxonomy and evolution'\n",
        "u'Genetics'\n",
        "u'Anatomy'\n",
        "u'Physiology'\n",
        "u'Senses'\n",
        "u'Health'\n",
        "u'Diseases'\n",
        "u'Poisoning'\n",
        "u'Behavior'\n",
        "u'Sociability'\n",
        "u'Grooming'\n",
        "u'Fighting'\n",
        "u'Hunting and feeding'\n",
        "u'Play'\n",
        "u'Reproduction'\n",
        "u'Vocalizations'\n",
        "u'Ecology'\n",
        "u'Habitats'\n",
        "u'Impact on prey species'\n",
        "u'Impact on birds'\n",
        "u'Cats and humans'\n",
        "u'Feral cats'\n",
        "u'History and mythology'\n",
        "u'See also'\n",
        "u'References'\n"
       ]
      }
     ],
     "prompt_number": 21
    },
    {
     "cell_type": "heading",
     "level": 1,
     "metadata": {},
     "source": [
      "Facebook post, comments & likes"
     ]
    },
    {
     "cell_type": "markdown",
     "metadata": {},
     "source": [
      "Facebook.search(query,type=SEARCH) returns a list of Result objects, where each result is a(publicly available) post that contains (or which comments contain) the given query \n",
      "\n",
      "Facebook.search(id,type=NEWS) return posts from a given user profile. You need to supply a personal license key. You can get a key when you "
     ]
    },
    {
     "cell_type": "code",
     "collapsed": false,
     "input": [
      "from pattern.web import Facebook, NEWS, COMMENTS, LIKES\n",
      "\n",
      "fb = Facebook(license = 'CAAEuAis8fUgBAMYatfqtvRu1vumKB\\\n",
      "ZCmPuZAGF4ibUufpzEwrEYZCqi5m4w2ZBKgD0fBZCEvo1PcRPmekdwmL\\\n",
      "p2UVuLkuqo6wzSNcdCZCfvcjLFJ2cLPS62KQ2RfvOaXRCqvEipDqh4cr\\\n",
      "M3rkZBsI9HTgMdOF0KITAFJL0gP0sV1waO4n7yWJ8ZAswZCjCLIyQ8YZD')\n",
      "\n",
      "me = fb.profile(id = None) #user info dict\n",
      "\n",
      "for post in fb.search(me[0], type=NEWS, count=10):\n",
      "    print repr(post.id)\n",
      "    print repr(post.text)\n",
      "    print repr(post.url)\n",
      "    if post.comments > 0:\n",
      "        print '%i comments' % post.comments\n",
      "        print [(r.text, r.author) for r in fb.search(post.id, type = COMMENTS)]\n",
      "        \n",
      "    if post.likes > 0:\n",
      "        print '%i likes' % post.likes\n",
      "        print[r.author for r in fb.search(post.id, type = LIKES)]\n",
      "        "
     ],
     "language": "python",
     "metadata": {},
     "outputs": [
      {
       "output_type": "stream",
       "stream": "stdout",
       "text": [
        "u'100001052837601_855530257825394'\n",
        "u'Event h\\u1ea5p d\\u1eabn! Nguy\\u1ec5n Ng\\u1ecdc Nam, Thien Huu c\\xe1c em xem c\\xf3 b\\u1ea1n n\\xe0o quan t\\xe2m kh\\xf4ng nh\\xe9! :D :D :D'\n",
        "u'http://ticketbox.vn/event/deep-learning-for-image-speech-and-language-understanding-14457'\n",
        "1 likes\n",
        "[(u'100001052837601', u'Phuong Dung Keziah')]"
       ]
      },
      {
       "output_type": "stream",
       "stream": "stdout",
       "text": [
        "\n",
        "u'100001052837601_854682941243459'\n",
        "u'Phuong Dung Keziah likes a status.'\n",
        "u''\n",
        "u'100001052837601_854042171307536'\n",
        "u'Phuong Dung Keziah commented on a photo.'\n",
        "u''\n",
        "u'100001052837601_852809211430832'\n",
        "u'Phuong Dung Keziah commented on her own photo.'\n",
        "u''\n",
        "u'100001052837601_852520094793077'\n",
        "u\"Phuong Dung Keziah was tagged in Cuong Nguyen Michael's photo.\"\n",
        "u'https://scontent-b.xx.fbcdn.net/hphotos-xpa1/v/t1.0-9/s130x130/10645136_10204487782975792_5707001740603963257_n.jpg?oh=f1411a6dc9905e9d000c5fb3b75b8db1&oe=54E58094'\n",
        "2 comments\n",
        "[(u'm\\u1eb9 e n\\xf3i nh\\xecn a Th\\xe1i nh\\u01b0 \\xf4ng \\u0111\\u1ecba n\\u1eb1m \\xfd =]]]', (u'100000065114461', u'Dolly Dang')), (u'Binh thuong da giong ong dia roi.', (u'100001795712508', u'Mymy Do Thi'))]"
       ]
      },
      {
       "output_type": "stream",
       "stream": "stdout",
       "text": [
        "\n",
        "30 likes\n",
        "[(u'100002645364112', u'P\\xe9 Nh\\xed'), (u'100001795712508', u'Mymy Do Thi'), (u'100001910322149', u'Tuu Phung'), (u'100000433832961', u'Ho Thi Dan'), (u'722270023', u'Tran Hong Hai'), (u'100001568173831', u'Hoai Phep'), (u'1268893456', u'Cuong Nguyen Michael'), (u'572793019', u'Ho Ngoc Thoai'), (u'100000027131250', u'Tan Vu'), (u'100001052837601', u'Phuong Dung Keziah')]"
       ]
      },
      {
       "output_type": "stream",
       "stream": "stdout",
       "text": [
        "\n",
        "u'100001052837601_852368728141547'\n",
        "u'Phuong Dung Keziah changed her profile picture.'\n",
        "u'https://scontent-b.xx.fbcdn.net/hphotos-xfp1/v/t1.0-9/p130x130/10409067_852368714808215_8500870869857180749_n.jpg?oh=fa73f6473c533ba79b38656b9538972e&oe=54D793E6'\n",
        "8 comments\n",
        "[(u'cute qua!', (u'100004766793691', u'Kelly Sa')), (u'Long time no see, good friend! (y) :)', (u'100000228587897', u'Ph\\u1ea1m \\u0110oan Trinh')), (u'c ch\\u1ee5p \\u1edf \\u0111\\xe2u v\\u1eady? c\\u1ea3nh \\u0111\\u1eb9p qu\\xe1.', (u'100002857917687', u'Myhanh Bui')), (u'xinh t\\u01b0\\u01a1i n\\xe8!', (u'1268161865', u'Nguyen Kha')), (u'Myhanh Bui v\\u1eeba r\\xf9i t\\u1edb \\u0111i Madagui L\\xe2m \\u0110\\u1ed3ng, ps: c\\xf2n nhi\\u1ec1u c\\u1ea3nh \\u0111\\u1eb9p l\\xe9m m\\xe0 ch\\u01b0a post! th\\xedch nh\\u1ea5t l\\xe0 c\\u1ea3m gi\\xe1c ch\\xe8o thuy\\u1ec1n \\u1edf h\\u1ed3 Su\\u1ed1i Voi. Ai ch\\u01b0a \\u0111i th\\xec n\\xean \\u0111i :D :D :D', (u'100001052837601', u'Phuong Dung Keziah')), (u'nh\\xecn iu th\\u1ebf', (u'100008236426228', u'Hanh Nguyen')), (u'b\\xe9 Dung d\\u1ec5 th\\u01b0\\u01a1ng n\\xe8 ^^', (u'672313771', u'Jenny My Nguyen')), (u'cam on moi nguoi :D :D', (u'100001052837601', u'Phuong Dung Keziah'))]"
       ]
      },
      {
       "output_type": "stream",
       "stream": "stdout",
       "text": [
        "\n",
        "100 likes\n",
        "[(u'100002335332127', u'Di\\u1ec7u Hi\\u1ec1n Nguy\\u1ec5n'), (u'100001752932011', u'Tr\\u1ea7n V\\u0103n Quy'), (u'100001394801211', u'Anne Pham'), (u'100001052837601', u'Phuong Dung Keziah'), (u'100001977984194', u'TK Nguy\\u1ec5n'), (u'100000567157603', u'P\\xe9 \\u0110i\\u1ec7u'), (u'100002559159957', u'Linksue Dalat'), (u'100000278574684', u'Th\\u1ea3o H\\u1ed9t M\\xedt'), (u'100001602523209', u'Sophia Nguyen'), (u'100000210158390', u'Viet Long')]"
       ]
      },
      {
       "output_type": "stream",
       "stream": "stdout",
       "text": [
        "\n",
        "u'100001052837601_852250154820071'\n",
        "u'Ng\\xe0y 31 th\\xe1ng 10 n\\u0103m 1517 l\\xe0 ng\\xe0y g\\xec nh\\u1ec9?\\nT\\u1ea1i sao TIN L\\xc0NH \\u0111\\u01b0\\u1ee3c g\\u1ecdi l\\xe0 KH\\xc1NG C\\xc1CH (Protestantism)?\\n\\nhttp://vi.wikipedia.org/wiki/Tin_L%C3%A0nh\\nhttp://vi.wikipedia.org/wiki/Martin_Luther\\nhttp://lutheranvietnam.org/GioiThieu.aspx?CategoryId=183'\n",
        "u'http://vi.wikipedia.org/wiki/Martin_Luther'\n",
        "5 comments\n",
        "[(u'ch\\u1ecb l\\xe0 c\\xf4ng gi\\xe1o hay tin l\\xe0nh v\\u1eady ch\\u1ecb?', (u'100001836824280', u'T\\u1ea5nT\\xe0i V\\u0169')), (u'ch\\u1ecb l\\xe0 C\\u01a1 \\u0110\\u1ed1c Nh\\xe2n. :D', (u'100001052837601', u'Phuong Dung Keziah')), (u'l\\xe0 ng\\u01b0\\u1eddi theo Ch\\xfaa Gi\\xea-su \\xed h\\u1ea3? ;)', (u'1268161865', u'Nguyen Kha')), (u'L\\xe0 ng\\u01b0\\u1eddi tin v\\xe0 theo Ch\\xfaa Jesus nh\\u1eadn m\\xf3n qu\\xe0 \\u0111\\u1ec3 tr\\u1edf th\\xe0nh con \\u0110\\u1ee9c Ch\\xfaa Tr\\u1eddi, v\\xe0 t\\u1eeb \\u0111\\xf3 s\\u1ed1ng theo ti\\xeau chu\\u1ea9n m\\xe0 Cha mu\\u1ed1n qua L\\u1eddi Ng\\xe0i (Kinh Th\\xe1nh), l\\xe0m ch\\u1ee9ng v\\u1ec1 n\\u01b0\\u1edbc Tr\\u1eddi cho m\\u1ecdi ng\\u01b0\\u1eddi (nh\\u1edd Th\\u1ea7n Linh c\\u1ee7a Cha)', (u'100001052837601', u'Phuong Dung Keziah')), (u'C\\u01a1 \\u0111\\u1ed1c gi\\xe1o c\\u0169ng c\\xf3 nhi\\u1ec1u nh\\xe1nh m\\xe0 ch\\u1ecb? Em thu\\u1ed9c v\\u1ec1 gi\\xe1o h\\u1ed9i C\\xf4ng gi\\xe1o Roma.. :)', (u'100000169089876', u'B\\xf9i Kim T\\xf9ng'))]"
       ]
      },
      {
       "output_type": "stream",
       "stream": "stdout",
       "text": [
        "\n",
        "5 likes\n",
        "[(u'100003856115252', u'Huy\\u1ec1n My'), (u'100000109300215', u'Hac Hoang'), (u'1268161865', u'Nguyen Kha'), (u'100001094851838', u'Kim Sang'), (u'100004766793691', u'Kelly Sa')]"
       ]
      },
      {
       "output_type": "stream",
       "stream": "stdout",
       "text": [
        "\n",
        "u'100001052837601_851205648257855'\n",
        "u\"Phuong Dung Keziah shared Big Data Internship Program's album: Offline th\\xe1ng 10/2014.\"\n",
        "u'https://www.facebook.com/contanalytics.team/photos/a.1564075690473414.1073741832.1505393746341609/1564075887140061/?type=1'\n",
        "19 likes\n",
        "[(u'100002741071495', u'Huong Le'), (u'1304545862', u'Nguyen Tam'), (u'100001554998974', u'Tien Sy Nguyen'), (u'100001602523209', u'Sophia Nguyen'), (u'1838083687', u'H\\u1ed3 Gia B\\u1ea3o'), (u'100001876755758', u'Thien Huu'), (u'100003816397552', u'Thin Tran'), (u'100000226130462', u'Lan Anh Van'), (u'100004496374917', u'Ch\\xe2u Nguy\\u1ec5n'), (u'100004421468597', u'Nguyen Thien')]"
       ]
      },
      {
       "output_type": "stream",
       "stream": "stdout",
       "text": [
        "\n",
        "u'100001052837601_850816794963407'\n",
        "u'Phuong Dung Keziah likes a photo.'\n",
        "u''\n"
       ]
      }
     ],
     "prompt_number": 19
    },
    {
     "cell_type": "code",
     "collapsed": false,
     "input": [
      "from pattern.web import Mail, GMAIL, SUBJECT\n",
      "\n",
      "gmail=Mail(username='keziah.do@contemi.com.vn', password='', service=GMAIL)\n",
      "print gmail.folders.keys()"
     ],
     "language": "python",
     "metadata": {},
     "outputs": []
    },
    {
     "cell_type": "code",
     "collapsed": false,
     "input": [
      "import time\n",
      "t0 = time.clock()\n",
      "i = gmail.spam.search('BI', field=SUBJECT)[0] # What riches await....\n",
      "m = gmail.spam.read(i)\n",
      "print 'From: ', m.author\n",
      "print 'Subject: ', m.subject\n",
      "print 'Messege: '\n",
      "print m.body\n",
      "print time.clock() - t0"
     ],
     "language": "python",
     "metadata": {},
     "outputs": []
    }
   ],
   "metadata": {}
  }
 ]
}